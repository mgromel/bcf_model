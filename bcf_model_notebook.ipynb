{
 "cells": [
  {
   "cell_type": "markdown",
   "metadata": {},
   "source": [
    "# General information:\n",
    "\n",
    "Model was developed using Python 3.12.4\n",
    "\n",
    "Libraries and their versions used for model development are \n",
    "listed in requirements.txt file\n",
    "\n",
    "\n",
    "- _t - training set\n",
    "- _v - validation set\n",
    "- _std - standardized values\n",
    "- _pred - predicted values\n",
    "- _loo - leave-one-out cross validation"
   ]
  },
  {
   "cell_type": "code",
   "execution_count": null,
   "metadata": {},
   "outputs": [],
   "source": [
    "# import libraries\n",
    "import numpy as np\n",
    "import pandas as pd\n",
    "from sklearn.linear_model import LinearRegression\n",
    "from sklearn.preprocessing import StandardScaler\n",
    "from sklearn.model_selection import cross_val_predict\n",
    "from sklearn import metrics"
   ]
  },
  {
   "cell_type": "markdown",
   "metadata": {},
   "source": [
    "## Load data and split into subsets"
   ]
  },
  {
   "cell_type": "code",
   "execution_count": 15,
   "metadata": {},
   "outputs": [],
   "source": [
    "# load dataset\n",
    "data_df = pd.read_excel('data.xlsx', sheet_name='dataset', index_col=0)"
   ]
  },
  {
   "cell_type": "code",
   "execution_count": 17,
   "metadata": {},
   "outputs": [],
   "source": [
    "# split into sets\n",
    "y_t = data_df['y'][data_df['Split'] == 'T']\n",
    "y_v = data_df['y'][data_df['Split'] == 'V']\n",
    "\n",
    "X_t = data_df[data_df['Split'] == 'T'].drop(['y', 'Split'], axis=1)\n",
    "X_v = data_df[data_df['Split'] == 'V'].drop(['y', 'Split'], axis=1)"
   ]
  },
  {
   "cell_type": "markdown",
   "metadata": {},
   "source": [
    "## Fit and predict"
   ]
  },
  {
   "cell_type": "code",
   "execution_count": 38,
   "metadata": {},
   "outputs": [],
   "source": [
    "# data standardization\n",
    "scaler = StandardScaler()\n",
    "X_t_std = pd.DataFrame(scaler.fit_transform(X_t), index=X_t.index.values, columns=X_t.columns.values)\n",
    "X_v_std = pd.DataFrame(scaler.transform(X_v), index=X_v.index.values, columns=X_v.columns.values)\n",
    "\n",
    "# develop model\n",
    "estimator = LinearRegression()\n",
    "estimator.fit(X_t_std, y_t)\n",
    "\n",
    "y_t_pred = estimator.predict(X_t_std)\n",
    "y_v_pred = estimator.predict(X_v_std)\n",
    "\n",
    "# leave-one-out cross validation\n",
    "y_t_pred_loo = cross_val_predict(estimator, X_t_std, y_t, cv=X_t_std.shape[0])\n",
    "y_v_pred_loo = cross_val_predict(estimator, X_v_std, y_v, cv=X_v_std.shape[0])"
   ]
  },
  {
   "cell_type": "markdown",
   "metadata": {},
   "source": [
    "## Generate model statistics and errors"
   ]
  },
  {
   "cell_type": "code",
   "execution_count": 42,
   "metadata": {},
   "outputs": [],
   "source": [
    "# model statistics\n",
    "r_2 = metrics.r2_score(y_pred=y_t_pred, y_true=y_t)\n",
    "q_2 = metrics.r2_score(y_pred=y_v_pred, y_true=y_v)\n",
    "\n",
    "r_2_loo = metrics.r2_score(y_pred=y_t_pred_loo, y_true=y_t)\n",
    "q_2_loo = metrics.r2_score(y_pred=y_v_pred_loo, y_true=y_v)\n",
    "\n",
    "# errors\n",
    "rmse_t= metrics.root_mean_squared_error(y_true=y_t, y_pred=y_t_pred)\n",
    "rmse_v = metrics.root_mean_squared_error(y_true=y_v, y_pred=y_v_pred)\n",
    "mae_t = metrics.mean_absolute_error(y_true=y_t, y_pred=y_t_pred)\n",
    "mae_v = metrics.mean_absolute_error(y_true=y_v, y_pred=y_v_pred)"
   ]
  },
  {
   "cell_type": "code",
   "execution_count": 50,
   "metadata": {},
   "outputs": [
    {
     "name": "stdout",
     "output_type": "stream",
     "text": [
      "\n",
      "Model statistics:\n",
      "R_square: \t0.924\n",
      "Q_square: \t0.888\n",
      "R_square LOO: \t0.882\n",
      "Q_square LOO: \t0.795\n",
      "\n",
      "Model errors:\n",
      "RMSE_t: \t0.583\n",
      "RMSE_v: \t0.72\n",
      "MAE_t:  \t0.493\n",
      "MAE_v:  \t0.574\n"
     ]
    }
   ],
   "source": [
    "# print statistics\n",
    "print('\\nModel statistics:')\n",
    "print(f'R_square: \\t{round(r_2,3)}')\n",
    "print(f'Q_square: \\t{round(q_2,3)}')\n",
    "print(f'R_square LOO: \\t{round(r_2_loo,3)}')\n",
    "print(f'Q_square LOO: \\t{round(q_2_loo,3)}')\n",
    "\n",
    "print('\\nModel errors:')\n",
    "print(f'RMSE_t: \\t{round(rmse_t,3)}')\n",
    "print(f'RMSE_v: \\t{round(rmse_v,3)}')\n",
    "print(f'MAE_t:  \\t{round(mae_t,3)}')\n",
    "print(f'MAE_v:  \\t{round(mae_v,3)}')"
   ]
  }
 ],
 "metadata": {
  "kernelspec": {
   "display_name": "Python 3.12.4 ('vevn': venv)",
   "language": "python",
   "name": "python3"
  },
  "language_info": {
   "codemirror_mode": {
    "name": "ipython",
    "version": 3
   },
   "file_extension": ".py",
   "mimetype": "text/x-python",
   "name": "python",
   "nbconvert_exporter": "python",
   "pygments_lexer": "ipython3",
   "version": "3.12.4"
  },
  "orig_nbformat": 4,
  "vscode": {
   "interpreter": {
    "hash": "4c8089059eb74f8852b808b3de202457798b22c99644538288ecbf08ac2c9aa7"
   }
  }
 },
 "nbformat": 4,
 "nbformat_minor": 2
}
